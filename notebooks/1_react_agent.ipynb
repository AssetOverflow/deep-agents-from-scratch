{
 "cells": [
  {
   "cell_type": "markdown",
   "id": "7722cee9-ef69-4941-be74-46edae64472f",
   "metadata": {},
   "source": [
    "# Lesson 1: Quick tour of Agents, LangSmith\n",
    "\n",
    "It's very quick and simple to setup and run an agent. In this lab, we'll setup an agent, trace its trajectory in LangSmith and demonstrate Studio."
   ]
  },
  {
   "cell_type": "markdown",
   "id": "8c87ebf3-41ab-4ec8-82f3-4395857b607e",
   "metadata": {},
   "source": [
    "#### from outline.txt (to be removed):\n",
    "Highlights:\n",
    "- long-running agents need ability to backup vs starting from scratch. Langgraph can provide that.\n",
    "   - requires complete snapshots in state - requires 'files' be state, or files must be more sophisticated..\n",
    "- fast/easy to create an agent\n",
    "\n",
    "\n",
    "\n",
    "Lesson 0 - intro w Harrison/Lance\n",
    "lesson 1 - [Slides only] overview on the common patterns of\n",
    "   a. context isolation to sub agents,\n",
    "   b. context offloading,\n",
    "   c. todo list tool,\n",
    "   d. task specific prompt eng.\n",
    "      Context eng slides have many good citations for all. Plus the blog post. Should be quick.\n",
    "\n",
    "   lesson 2 - build an agent fast with create_react_agent. Demo LangSmith, Studio in simple environment.\n",
    "      notebook: 1_react_agent.ipynb\n",
    "\n",
    "lesson 3 - todo tool / planning. Easy.\n",
    "      notebook: 2_react_agent_w_todo.ipynb\n",
    "      - Keep todo in state\n",
    "\n",
    "lesson 4 - filesystem tool. Btw this is p cool and novel. It’s smtg we chatted abt. Mock filesystem in Langgraph state is nice shortcut.\n",
    "      notebook: 3_react_agent_w_files.ipynb\n",
    "      - Keep file system in state - use it to backtrack/restart\n",
    "\n",
    "lesson 5 - subagent delegation. Also a bit novel how it does it; let’s supervisor define the subagent on the fly (tools, name, prompt). whereas for DR we carefully    \\\n",
    "              define subagent tools / system prompt, and only let supervisor define the research topic for each. This is more flexible, am curious on performance.\n",
    "      notebook: 4_react_agent_w_subagents.ipynb\n",
    "\n",
    "\n",
    "lesson 6 - prompting + applying to task (like DR).  But ofc general is the story here.\n",
    "               Btw another little tip I’ve started doing is using a think_tool. Extremely useful.\n",
    "               Claude interleaves thinking w/ tool calls. Can see it’s though process and understand failures. Super helpful.\n",
    "      notebook: 5_deep_agent.ipynb\n",
    "\n",
    "\n",
    "note: may renumber the notebooks to match lessons. For now, number to keep sequence.\n",
    "\n"
   ]
  },
  {
   "cell_type": "markdown",
   "id": "929cc1ba-58a9-4f85-935c-1c0facdf8c28",
   "metadata": {},
   "source": [
    "#### Notes, this lesson.(to be removed)\n",
    "This lesson is a lightweight example of create_react_agent giving time to do housekeeping, intro langsmith, studio\n",
    "\n",
    "Todo This lesson:\n",
    "- write file to studio dir\n",
    "- add evalutation, add, intro,comments, diagrams etc."
   ]
  },
  {
   "cell_type": "code",
   "execution_count": 1,
   "id": "f062b0ef-7b02-4c86-80e6-652755fd0870",
   "metadata": {},
   "outputs": [],
   "source": [
    "# Load environment variables and set up auto-reload\n",
    "from dotenv import load_dotenv\n",
    "load_dotenv()\n",
    "\n",
    "%load_ext autoreload\n",
    "%autoreload 2"
   ]
  },
  {
   "cell_type": "code",
   "execution_count": 2,
   "id": "d9f14929-c7c1-403b-9515-9b59626cc61e",
   "metadata": {},
   "outputs": [
    {
     "name": "stdout",
     "output_type": "stream",
     "text": [
      "Overwriting ../src/deep_agents_from_scratch/react_agent.py\n"
     ]
    }
   ],
   "source": [
    "%%writefile ../src/deep_agents_from_scratch/react_agent.py\n",
    "import os\n",
    "from typing import Literal\n",
    "from tavily import TavilyClient\n",
    "from langchain_core.tools import tool\n",
    "from langgraph.prebuilt import create_react_agent\n",
    "from langchain_anthropic import ChatAnthropic\n",
    "\n",
    "\n",
    "# Create the Tavily search tool\n",
    "@tool\n",
    "def internet_search(\n",
    "    query: str,\n",
    "    max_results: int = 5,\n",
    "    topic: Literal[\"general\", \"news\", \"finance\"] = \"general\",\n",
    "    include_raw_content: bool = False,\n",
    "):\n",
    "    \"\"\"Run a web search using Tavily\"\"\"\n",
    "    tavily_client = TavilyClient()  # Studio handles API key automatically\n",
    "    search_results = tavily_client.search(\n",
    "        query,\n",
    "        max_results=max_results,\n",
    "        include_raw_content=include_raw_content,\n",
    "        topic=topic,\n",
    "    )\n",
    "    return search_results\n",
    "\n",
    "\n",
    "# Create the model\n",
    "llm = ChatAnthropic(model_name=\"claude-sonnet-4-20250514\", max_tokens=64000)\n",
    "\n",
    "# Create and export the agent for Studio\n",
    "agent = create_react_agent(\n",
    "    model=llm,\n",
    "    tools=[internet_search],\n",
    "    prompt=\"You are a helpful assistant that can search the internet. Use the internet_search tool to find information when needed.\"\n",
    ")\n"
   ]
  },
  {
   "cell_type": "code",
   "execution_count": 3,
   "id": "cdec5f42-32bb-48ae-adc9-13b67a3b63db",
   "metadata": {},
   "outputs": [
    {
     "name": "stdout",
     "output_type": "stream",
     "text": [
      "Running search example...\n"
     ]
    }
   ],
   "source": [
    "from deep_agents_from_scratch.react_agent import agent\n",
    "\n",
    "# Run a search example\n",
    "print(\"Running search example...\")\n",
    "result = agent.invoke({\n",
    "    \"messages\": [{\n",
    "        \"role\": \"user\", \n",
    "        \"content\": \"What is the latest news about artificial intelligence, very briefly\"\n",
    "    }]\n",
    "})"
   ]
  },
  {
   "cell_type": "code",
   "execution_count": 4,
   "id": "72929239-e49c-4cf7-afb6-c9007b747de4",
   "metadata": {},
   "outputs": [
    {
     "name": "stdout",
     "output_type": "stream",
     "text": [
      "\n",
      "=== Search Result ===\n",
      "Here are the latest AI news highlights:\n",
      "\n",
      "**Google's AGI Push**: Google DeepMind outlined a new step toward artificial general intelligence (AGI) with a model that lets AI systems interact with realistic world simulations - seen as key to achieving human-level AI capabilities.\n",
      "\n",
      "**OpenAI Developments**: OpenAI is making moves with GPT-5, offering ChatGPT Enterprise to federal agencies for $1, and releasing new open-source AI models. The company's valuation surge is creating millionaires among employees.\n",
      "\n",
      "**Government AI Adoption**: The U.S. federal government is increasingly embracing ChatGPT across agencies to boost productivity and maintain technological leadership.\n",
      "\n",
      "**Security Focus**: There's growing emphasis on AI security, with discussions around zero-trust principles for AI infrastructure and patches for critical vulnerabilities in AI model servers.\n",
      "\n",
      "**Industry Criticism**: Some outlets are calling out \"bullshit AI\" - suggesting a pushback against AI hype and demand for more substantive applications.\n"
     ]
    }
   ],
   "source": [
    "# Print the result\n",
    "print(\"\\n=== Search Result ===\")\n",
    "print(result[\"messages\"][-1].content)\n"
   ]
  },
  {
   "cell_type": "code",
   "execution_count": null,
   "id": "3f33896c-0bc8-48f0-8ab8-0cd97b23888d",
   "metadata": {},
   "outputs": [],
   "source": []
  },
  {
   "cell_type": "markdown",
   "id": "f42b06db-ee62-43b7-8bb7-d4658462ac4b",
   "metadata": {},
   "source": [
    "```\n",
    "project_root/\n",
    "├─ pyproject.toml\n",
    "├─ src/\n",
    "│  └─ studio/\n",
    "│     ├─ __init__.py\n",
    "│     └─ joe.py\n",
    "└─ your_script.py\n",
    "```"
   ]
  },
  {
   "cell_type": "code",
   "execution_count": null,
   "id": "e0671361-aa3d-464f-9f1a-6433e48a8d5f",
   "metadata": {},
   "outputs": [],
   "source": []
  },
  {
   "cell_type": "code",
   "execution_count": null,
   "id": "bed836b7-56dc-4eba-bab5-7fa355d2628f",
   "metadata": {},
   "outputs": [],
   "source": []
  }
 ],
 "metadata": {
  "kernelspec": {
   "display_name": "Python 3 (ipykernel)",
   "language": "python",
   "name": "python3"
  },
  "language_info": {
   "codemirror_mode": {
    "name": "ipython",
    "version": 3
   },
   "file_extension": ".py",
   "mimetype": "text/x-python",
   "name": "python",
   "nbconvert_exporter": "python",
   "pygments_lexer": "ipython3",
   "version": "3.13.5"
  }
 },
 "nbformat": 4,
 "nbformat_minor": 5
}
