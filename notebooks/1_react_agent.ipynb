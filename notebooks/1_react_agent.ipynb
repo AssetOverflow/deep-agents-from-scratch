{
 "cells": [
  {
   "cell_type": "markdown",
   "id": "7722cee9-ef69-4941-be74-46edae64472f",
   "metadata": {},
   "source": [
    "# Lesson 1: Quick tour of Agents, LangSmith\n",
    "\n",
    "It's very quick and simple to setup and run an agent. In this lab, we'll setup an agent, trace its trajectory in LangSmith and demonstrate Studio."
   ]
  },
  {
   "cell_type": "markdown",
   "id": "8c87ebf3-41ab-4ec8-82f3-4395857b607e",
   "metadata": {},
   "source": [
    "#### from outline.txt (to be removed):\n",
    "Highlights:\n",
    "- long-running agents need ability to backup vs starting from scratch. Langgraph can provide that.\n",
    "   - requires complete snapshots in state - requires 'files' be state, or files must be more sophisticated..\n",
    "- fast/easy to create an agent\n",
    "\n",
    "\n",
    "\n",
    "Lesson 0 - intro w Harrison/Lance\n",
    "lesson 1 - [Slides only] overview on the common patterns of\n",
    "   a. context isolation to sub agents,\n",
    "   b. context offloading,\n",
    "   c. todo list tool,\n",
    "   d. task specific prompt eng.\n",
    "      Context eng slides have many good citations for all. Plus the blog post. Should be quick.\n",
    "\n",
    "   lesson 2 - build an agent fast with create_react_agent. Demo LangSmith, Studio in simple environment.\n",
    "      notebook: 1_react_agent.ipynb\n",
    "\n",
    "lesson 3 - todo tool / planning. Easy.\n",
    "      notebook: 2_react_agent_w_todo.ipynb\n",
    "      - Keep todo in state\n",
    "\n",
    "lesson 4 - filesystem tool. Btw this is p cool and novel. It’s smtg we chatted abt. Mock filesystem in Langgraph state is nice shortcut.\n",
    "      notebook: 3_react_agent_w_files.ipynb\n",
    "      - Keep file system in state - use it to backtrack/restart\n",
    "\n",
    "lesson 5 - subagent delegation. Also a bit novel how it does it; let’s supervisor define the subagent on the fly (tools, name, prompt). whereas for DR we carefully    \\\n",
    "              define subagent tools / system prompt, and only let supervisor define the research topic for each. This is more flexible, am curious on performance.\n",
    "      notebook: 4_react_agent_w_subagents.ipynb\n",
    "\n",
    "\n",
    "lesson 6 - prompting + applying to task (like DR).  But ofc general is the story here.\n",
    "               Btw another little tip I’ve started doing is using a think_tool. Extremely useful.\n",
    "               Claude interleaves thinking w/ tool calls. Can see it’s though process and understand failures. Super helpful.\n",
    "      notebook: 5_deep_agent.ipynb\n",
    "\n",
    "\n",
    "note: may renumber the notebooks to match lessons. For now, number to keep sequence.\n",
    "\n"
   ]
  },
  {
   "cell_type": "markdown",
   "id": "929cc1ba-58a9-4f85-935c-1c0facdf8c28",
   "metadata": {},
   "source": [
    "#### Notes, this lesson.(to be removed)\n",
    "This lesson is a lightweight example of create_react_agent giving time to do housekeeping, intro langsmith, studio\n",
    "\n",
    "Todo This lesson:\n",
    "- write file to studio dir\n",
    "- add evalutation, add, intro,comments, diagrams etc."
   ]
  },
  {
   "cell_type": "code",
   "execution_count": 5,
   "id": "d9f14929-c7c1-403b-9515-9b59626cc61e",
   "metadata": {},
   "outputs": [
    {
     "name": "stdout",
     "output_type": "stream",
     "text": [
      "Writing ../studio/react_agent.py\n"
     ]
    }
   ],
   "source": [
    "%%writefile ../studio/react_agent.py\n",
    "import os\n",
    "from typing import Literal\n",
    "from tavily import TavilyClient\n",
    "from langchain_core.tools import tool\n",
    "from langgraph.prebuilt import create_react_agent\n",
    "from langchain_anthropic import ChatAnthropic\n",
    "\n",
    "\n",
    "# Create the Tavily search tool\n",
    "@tool\n",
    "def internet_search(\n",
    "    query: str,\n",
    "    max_results: int = 5,\n",
    "    topic: Literal[\"general\", \"news\", \"finance\"] = \"general\",\n",
    "    include_raw_content: bool = False,\n",
    "):\n",
    "    \"\"\"Run a web search using Tavily\"\"\"\n",
    "    tavily_client = TavilyClient()  # Studio handles API key automatically\n",
    "    search_results = tavily_client.search(\n",
    "        query,\n",
    "        max_results=max_results,\n",
    "        include_raw_content=include_raw_content,\n",
    "        topic=topic,\n",
    "    )\n",
    "    return search_results\n",
    "\n",
    "\n",
    "# Create the model\n",
    "llm = ChatAnthropic(model_name=\"claude-sonnet-4-20250514\", max_tokens=64000)\n",
    "\n",
    "# Create and export the agent for Studio\n",
    "agent = create_react_agent(\n",
    "    model=llm,\n",
    "    tools=[internet_search],\n",
    "    prompt=\"You are a helpful assistant that can search the internet. Use the internet_search tool to find information when needed.\"\n",
    ")\n"
   ]
  },
  {
   "cell_type": "code",
   "execution_count": null,
   "id": "79e517e9-8f17-4a80-a674-4cd7bf9994a8",
   "metadata": {},
   "outputs": [],
   "source": [
    "# Run the example\n",
    "if __name__ == \"__main__\":\n",
    "    # Make sure you have TAVILY_API_KEY set\n",
    "    if \"TAVILY_API_KEY\" not in os.environ:\n",
    "        print(\"Please set TAVILY_API_KEY environment variable\")\n",
    "        exit(1)\n",
    "    \n",
    "    # Create the agent\n",
    "    agent = create_simple_search_agent()\n",
    "    \n",
    "    # Run a search example\n",
    "    print(\"Running search example...\")\n",
    "    result = agent.invoke({\n",
    "        \"messages\": [{\n",
    "            \"role\": \"user\", \n",
    "            \"content\": \"What is the latest news about artificial intelligence?\"\n",
    "        }]\n",
    "    })\n",
    "    \n",
    "    # Print the result\n",
    "    print(\"\\n=== Search Result ===\")\n",
    "    print(result[\"messages\"][-1].content)\n"
   ]
  },
  {
   "cell_type": "code",
   "execution_count": null,
   "id": "3f33896c-0bc8-48f0-8ab8-0cd97b23888d",
   "metadata": {},
   "outputs": [],
   "source": []
  },
  {
   "cell_type": "markdown",
   "id": "f42b06db-ee62-43b7-8bb7-d4658462ac4b",
   "metadata": {},
   "source": [
    "```\n",
    "project_root/\n",
    "├─ pyproject.toml\n",
    "├─ src/\n",
    "│  └─ studio/\n",
    "│     ├─ __init__.py\n",
    "│     └─ joe.py\n",
    "└─ your_script.py\n",
    "```"
   ]
  },
  {
   "cell_type": "code",
   "execution_count": null,
   "id": "e0671361-aa3d-464f-9f1a-6433e48a8d5f",
   "metadata": {},
   "outputs": [],
   "source": []
  },
  {
   "cell_type": "code",
   "execution_count": 3,
   "id": "1905c3d5-42c6-495e-87bf-9ad1a1558596",
   "metadata": {},
   "outputs": [
    {
     "ename": "ModuleNotFoundError",
     "evalue": "No module named 'langsmith_utils'",
     "output_type": "error",
     "traceback": [
      "\u001b[31m---------------------------------------------------------------------------\u001b[39m",
      "\u001b[31mModuleNotFoundError\u001b[39m                       Traceback (most recent call last)",
      "\u001b[36mCell\u001b[39m\u001b[36m \u001b[39m\u001b[32mIn[3]\u001b[39m\u001b[32m, line 7\u001b[39m\n\u001b[32m      5\u001b[39m \u001b[38;5;28;01mfrom\u001b[39;00m\u001b[38;5;250m \u001b[39m\u001b[34;01mlanggraph\u001b[39;00m\u001b[34;01m.\u001b[39;00m\u001b[34;01mprebuilt\u001b[39;00m\u001b[38;5;250m \u001b[39m\u001b[38;5;28;01mimport\u001b[39;00m create_react_agent\n\u001b[32m      6\u001b[39m \u001b[38;5;28;01mfrom\u001b[39;00m\u001b[38;5;250m \u001b[39m\u001b[34;01mlangchain_anthropic\u001b[39;00m\u001b[38;5;250m \u001b[39m\u001b[38;5;28;01mimport\u001b[39;00m ChatAnthropic\n\u001b[32m----> \u001b[39m\u001b[32m7\u001b[39m \u001b[38;5;28;01mfrom\u001b[39;00m\u001b[38;5;250m \u001b[39m\u001b[34;01mlangsmith_utils\u001b[39;00m\u001b[38;5;250m \u001b[39m\u001b[38;5;28;01mimport\u001b[39;00m print_trace_info\n\u001b[32m      9\u001b[39m \u001b[38;5;66;03m# Create the Tavily search tool\u001b[39;00m\n\u001b[32m     10\u001b[39m \u001b[38;5;129m@tool\u001b[39m\n\u001b[32m     11\u001b[39m \u001b[38;5;28;01mdef\u001b[39;00m\u001b[38;5;250m \u001b[39m\u001b[34minternet_search\u001b[39m(\n\u001b[32m     12\u001b[39m     query: \u001b[38;5;28mstr\u001b[39m,\n\u001b[32m   (...)\u001b[39m\u001b[32m     15\u001b[39m     include_raw_content: \u001b[38;5;28mbool\u001b[39m = \u001b[38;5;28;01mFalse\u001b[39;00m,\n\u001b[32m     16\u001b[39m ):\n",
      "\u001b[31mModuleNotFoundError\u001b[39m: No module named 'langsmith_utils'"
     ]
    }
   ],
   "source": [
    "import os\n",
    "from typing import Literal\n",
    "from tavily import TavilyClient\n",
    "from langchain_core.tools import tool\n",
    "from langgraph.prebuilt import create_react_agent\n",
    "from langchain_anthropic import ChatAnthropic\n",
    "from langsmith_utils import print_trace_info\n",
    "\n",
    "# Create the Tavily search tool\n",
    "@tool\n",
    "def internet_search(\n",
    "    query: str,\n",
    "    max_results: int = 5,\n",
    "    topic: Literal[\"general\", \"news\", \"finance\"] = \"general\",\n",
    "    include_raw_content: bool = False,\n",
    "):\n",
    "    \"\"\"Run a web search using Tavily\"\"\"\n",
    "    tavily_client = TavilyClient(api_key=os.environ[\"TAVILY_API_KEY\"])\n",
    "    search_results = tavily_client.search(\n",
    "        query,\n",
    "        max_results=max_results,\n",
    "        include_raw_content=include_raw_content,\n",
    "        topic=topic,\n",
    "    )\n",
    "    return search_results\n",
    "\n",
    "    "
   ]
  },
  {
   "cell_type": "code",
   "execution_count": null,
   "id": "4a6e6b13-4672-4d0d-8f6d-4cd70af5589f",
   "metadata": {},
   "outputs": [],
   "source": [
    "# Create the agent\n",
    "def create_simple_search_agent():\n",
    "    # Set up the model\n",
    "    model = ChatAnthropic(model_name=\"claude-sonnet-4-20250514\", max_tokens=8000)\n",
    "    \n",
    "    # Create the agent with the search tool\n",
    "    agent = create_react_agent(\n",
    "        model=model,\n",
    "        tools=[internet_search],\n",
    "        prompt=\"You are a helpful assistant who can search the internet. Use the internet_search tool to find information when needed.\"\n",
    "    )\n",
    "    \n",
    "    return agent"
   ]
  },
  {
   "cell_type": "code",
   "execution_count": 2,
   "id": "66a33b05-3f29-4ba1-919b-83d2faac4a64",
   "metadata": {},
   "outputs": [
    {
     "ename": "NameError",
     "evalue": "name 'os' is not defined",
     "output_type": "error",
     "traceback": [
      "\u001b[31m---------------------------------------------------------------------------\u001b[39m",
      "\u001b[31mNameError\u001b[39m                                 Traceback (most recent call last)",
      "\u001b[36mCell\u001b[39m\u001b[36m \u001b[39m\u001b[32mIn[2]\u001b[39m\u001b[32m, line 4\u001b[39m\n\u001b[32m      1\u001b[39m \u001b[38;5;66;03m# Run the example\u001b[39;00m\n\u001b[32m      2\u001b[39m \u001b[38;5;28;01mif\u001b[39;00m \u001b[34m__name__\u001b[39m == \u001b[33m\"\u001b[39m\u001b[33m__main__\u001b[39m\u001b[33m\"\u001b[39m:\n\u001b[32m      3\u001b[39m     \u001b[38;5;66;03m# Make sure you have TAVILY_API_KEY set\u001b[39;00m\n\u001b[32m----> \u001b[39m\u001b[32m4\u001b[39m     \u001b[38;5;28;01mif\u001b[39;00m \u001b[33m\"\u001b[39m\u001b[33mTAVILY_API_KEY\u001b[39m\u001b[33m\"\u001b[39m \u001b[38;5;129;01mnot\u001b[39;00m \u001b[38;5;129;01min\u001b[39;00m \u001b[43mos\u001b[49m.environ:\n\u001b[32m      5\u001b[39m         \u001b[38;5;28mprint\u001b[39m(\u001b[33m\"\u001b[39m\u001b[33mPlease set TAVILY_API_KEY environment variable\u001b[39m\u001b[33m\"\u001b[39m)\n\u001b[32m      6\u001b[39m         exit(\u001b[32m1\u001b[39m)\n",
      "\u001b[31mNameError\u001b[39m: name 'os' is not defined"
     ]
    }
   ],
   "source": [
    "# Run the example\n",
    "if __name__ == \"__main__\":\n",
    "    # Make sure you have TAVILY_API_KEY set\n",
    "    if \"TAVILY_API_KEY\" not in os.environ:\n",
    "        print(\"Please set TAVILY_API_KEY environment variable\")\n",
    "        exit(1)\n",
    "    \n",
    "    # Create the agent\n",
    "    agent = create_simple_search_agent()\n",
    "    \n",
    "    # Run a search example\n",
    "    print(\"Running search example...\")\n",
    "    result = agent.invoke({\n",
    "        \"messages\": [{\n",
    "            \"role\": \"user\", \n",
    "            \"content\": \"What is the latest news about artificial intelligence?\"\n",
    "        }]\n",
    "    })\n",
    "    \n",
    "    # Print the result\n",
    "    print(\"\\n=== Search Result ===\")\n",
    "    print(result[\"messages\"][-1].content)\n"
   ]
  },
  {
   "cell_type": "code",
   "execution_count": 13,
   "id": "d6250583-adf4-4879-a4d1-3c98f3c69b53",
   "metadata": {},
   "outputs": [
    {
     "name": "stdout",
     "output_type": "stream",
     "text": [
      "🎯 LangSmith Projects URL: https://smith.langchain.com/projects\n"
     ]
    }
   ],
   "source": [
    "# Print the LangSmith projects URL for easy access to all traces\n",
    "print(f\"🎯 LangSmith Projects URL: https://smith.langchain.com/projects\")"
   ]
  },
  {
   "cell_type": "code",
   "execution_count": null,
   "id": "bed836b7-56dc-4eba-bab5-7fa355d2628f",
   "metadata": {},
   "outputs": [],
   "source": []
  }
 ],
 "metadata": {
  "kernelspec": {
   "display_name": "Python 3 (ipykernel)",
   "language": "python",
   "name": "python3"
  },
  "language_info": {
   "codemirror_mode": {
    "name": "ipython",
    "version": 3
   },
   "file_extension": ".py",
   "mimetype": "text/x-python",
   "name": "python",
   "nbconvert_exporter": "python",
   "pygments_lexer": "ipython3",
   "version": "3.13.5"
  }
 },
 "nbformat": 4,
 "nbformat_minor": 5
}
