{
 "cells": [
  {
   "cell_type": "code",
   "execution_count": null,
   "id": "fecc3e39",
   "metadata": {},
   "outputs": [],
   "source": [
    "# Load environment variables from parent directory and set up auto-reload\n",
    "import os\n",
    "\n",
    "from dotenv import load_dotenv\n",
    "\n",
    "load_dotenv(os.path.join(\"..\", \".env\"), override=True)\n",
    "\n",
    "%load_ext autoreload\n",
    "%autoreload 2"
   ]
  },
  {
   "cell_type": "markdown",
   "id": "7ba3ee5b",
   "metadata": {},
   "source": [
    "#TODO(Geoff): Here we can import all components and create the full agent w/ research tool."
   ]
  },
  {
   "cell_type": "code",
   "execution_count": null,
   "id": "e6ef1194",
   "metadata": {},
   "outputs": [],
   "source": "from typing import Literal\n\nfrom langchain_core.tools import tool\nfrom tavily import TavilyClient\n\n\n# Create the Tavily search tool\n@tool\ndef internet_search(\n    query: str,\n    max_results: int = 5,\n    topic: Literal[\"general\", \"news\", \"finance\"] = \"general\",\n    include_raw_content: bool = False,\n):\n    \"\"\"Run a web search using Tavily.\"\"\"\n    tavily_client = TavilyClient()  # Studio handles API key automatically\n    search_results = tavily_client.search(\n        query,\n        max_results=max_results,\n        include_raw_content=include_raw_content,\n        topic=topic,\n    )\n    return search_results"
  },
  {
   "cell_type": "markdown",
   "id": "820b3177",
   "metadata": {},
   "source": [
    "#TODO(Geoff): We can show Studio here."
   ]
  }
 ],
 "metadata": {
  "language_info": {
   "name": "python"
  }
 },
 "nbformat": 4,
 "nbformat_minor": 5
}