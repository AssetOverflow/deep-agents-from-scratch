{
 "cells": [
  {
   "cell_type": "code",
   "execution_count": null,
   "id": "ebda9f81",
   "metadata": {},
   "outputs": [],
   "source": [
    "# Load environment variables from parent directory and set up auto-reload\n",
    "import os\n",
    "\n",
    "from dotenv import load_dotenv\n",
    "\n",
    "load_dotenv(os.path.join(\"..\", \".env\"), override=True)\n",
    "\n",
    "%load_ext autoreload\n",
    "%autoreload 2"
   ]
  },
  {
   "cell_type": "markdown",
   "id": "1d4d8656",
   "metadata": {},
   "source": [
    "## Context Isolation: Sub-agents\n",
    "\n",
    "#TODO(Geoff): Can add more here. \n",
    "\n",
    "* Agent context can grow quickly. \n",
    "* Agents face several long context-related problems.\n",
    "* A primary problem is context clash or confusion. \n",
    "* Context with mixed objectives can lead to suboptimal performance.\n",
    "* [Context isolation](https://blog.langchain.com/context-engineering-for-agents/) is a good way to address these problems.\n",
    "* We can delegate tasks to [specialized sub-agents](https://www.anthropic.com/engineering/multi-agent-research-system).\n",
    "* Each sub-agent has its own context window.\n",
    "* This prevents context clashes, confusion, poisoning, and dilution.\n",
    "\n",
    "### Sub-agent delegation\n",
    "\n",
    "* The primary insight is that we can create sub-agents with different tool sets.\n",
    "* We can invoke them with a tool call, `task(description, subagent_type)`.\n",
    "* To this too we pass the parameters needed to create the sub-agent.\n",
    "* The work done by the sub-agent is returned as a `ToolMessage` to the parent agent.\n",
    "\n",
    "#TODO(Geoff): We will need to explain all of this. A bit dense."
   ]
  },
  {
   "cell_type": "code",
   "execution_count": null,
   "id": "9efa20a5",
   "metadata": {},
   "outputs": [],
   "source": "from typing import Annotated, NotRequired, TypedDict\n\nfrom langchain_core.messages import ToolMessage\nfrom langchain_core.tools import BaseTool, InjectedToolCallId, tool\nfrom langgraph.prebuilt import InjectedState, create_react_agent\nfrom langgraph.types import Command\n\nfrom deep_agents_from_scratch.prompts import (\n    TASK_DESCRIPTION_PREFIX,\n    TASK_DESCRIPTION_SUFFIX,\n)\nfrom deep_agents_from_scratch.state import DeepAgentState\n\n\nclass SubAgent(TypedDict):\n    \"\"\"Configuration for a specialized sub-agent.\"\"\"\n    name: str\n    description: str\n    prompt: str\n    tools: NotRequired[list[str]]\n\ndef _create_task_tool(tools, instructions, subagents: list[SubAgent], model, state_schema):\n    agents = {\n        \"general-purpose\": create_react_agent(model, prompt=instructions, tools=tools)\n    }\n    tools_by_name = {}\n    for tool_ in tools:\n        if not isinstance(tool_, BaseTool):\n            tool_ = tool(tool_)\n        tools_by_name[tool_.name] = tool_\n    for _agent in subagents:\n        if \"tools\" in _agent:\n            _tools = [tools_by_name[t] for t in _agent[\"tools\"]]\n        else:\n            _tools = tools\n        agents[_agent[\"name\"]] = create_react_agent(\n            model, prompt=_agent[\"prompt\"], tools=_tools, state_schema=state_schema\n        )\n\n    other_agents_string = [\n        f\"- {_agent['name']}: {_agent['description']}\" for _agent in subagents\n    ]\n\n    @tool(\n        description=TASK_DESCRIPTION_PREFIX.format(other_agents=other_agents_string)\n        + TASK_DESCRIPTION_SUFFIX\n    )\n    def task(\n        description: str,\n        subagent_type: str,\n        state: Annotated[DeepAgentState, InjectedState],\n        tool_call_id: Annotated[str, InjectedToolCallId],\n    ):\n        if subagent_type not in agents:\n            return f\"Error: invoked agent of type {subagent_type}, the only allowed types are {[f'`{k}`' for k in agents]}\"\n        sub_agent = agents[subagent_type]\n        state[\"messages\"] = [{\"role\": \"user\", \"content\": description}]\n        result = sub_agent.invoke(state)\n        return Command(\n            update={\n                \"files\": result.get(\"files\", {}),\n                \"messages\": [\n                    ToolMessage(\n                        result[\"messages\"][-1].content, tool_call_id=tool_call_id\n                    )\n                ],\n            }\n        )\n\n    return task"
  },
  {
   "cell_type": "markdown",
   "id": "a669dba4",
   "metadata": {},
   "source": []
  }
 ],
 "metadata": {
  "language_info": {
   "name": "python"
  }
 },
 "nbformat": 4,
 "nbformat_minor": 5
}