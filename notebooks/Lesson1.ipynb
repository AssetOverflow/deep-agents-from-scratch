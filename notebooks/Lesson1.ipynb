{
 "cells": [
  {
   "cell_type": "markdown",
   "id": "7722cee9-ef69-4941-be74-46edae64472f",
   "metadata": {},
   "source": [
    "# Lesson 1: Quick tour of Agents, LangSmith\n",
    "\n",
    "It's very quick and simple to setup and run an agent. In this lab, we'll setup an agent, trace its trajectory in LangSmith and demonstrate Studio."
   ]
  },
  {
   "cell_type": "markdown",
   "id": "8c87ebf3-41ab-4ec8-82f3-4395857b607e",
   "metadata": {},
   "source": [
    "File Edit Options Buffers Tools Text Help                                                                                                                               \n",
    "0/ Lesson 0 - intro w Harrison/Lance\n",
    "1/ lesson 1 - [Slides only] overview on the common patterns of\n",
    "   a. context isolation to sub agents,\n",
    "   b. context offloading,\n",
    "   c. todo list tool,\n",
    "   d. task specific prompt eng.\n",
    "      Context eng slides have many good citations for all. Plus the blog post. Should be quick.\n",
    "\n",
    "   lesson 2 - build an agent fast with create_react_agent. Demo\tLangSmith, Studio in simple environment.\n",
    "\n",
    "2/ lesson 3 - todo tool / planning. Easy.\n",
    "\n",
    "3/ lesson 4 - filesystem tool. Btw this is p cool and novel. It’s smtg we chatted abt. Mock filesystem in Langgraph state is nice shortcut.\n",
    "\n",
    "4/ lesson 5 - subagent delegation. Also a bit novel how it does it; let’s supervisor define the subagent on the fly (tools, name, prompt). whereas for DR we carefully \\\n",
    "define subagent tools / system prompt, and only let supervisor define the research topic for each. This is more flexible, am curious on performance.\n",
    "\n",
    "5/ lesson 6 - prompting + applying to task (like DR).  But ofc general is the story here.\n",
    "Btw another little tip I’ve started doing is using a think_tool. Extremely useful. Claude interleaves thinking w/ tool calls. Can see it’s though process and understan\\\n",
    "d failures. Super helpful.\n",
    "\n"
   ]
  },
  {
   "cell_type": "code",
   "execution_count": 7,
   "id": "1905c3d5-42c6-495e-87bf-9ad1a1558596",
   "metadata": {},
   "outputs": [],
   "source": [
    "import os\n",
    "from typing import Literal\n",
    "from tavily import TavilyClient\n",
    "from langchain_core.tools import tool\n",
    "from langgraph.prebuilt import create_react_agent\n",
    "from langchain_anthropic import ChatAnthropic\n",
    "from langsmith_utils import print_trace_info\n",
    "\n",
    "# Create the Tavily search tool\n",
    "@tool\n",
    "def internet_search(\n",
    "    query: str,\n",
    "    max_results: int = 5,\n",
    "    topic: Literal[\"general\", \"news\", \"finance\"] = \"general\",\n",
    "    include_raw_content: bool = False,\n",
    "):\n",
    "    \"\"\"Run a web search using Tavily\"\"\"\n",
    "    tavily_client = TavilyClient(api_key=os.environ[\"TAVILY_API_KEY\"])\n",
    "    search_results = tavily_client.search(\n",
    "        query,\n",
    "        max_results=max_results,\n",
    "        include_raw_content=include_raw_content,\n",
    "        topic=topic,\n",
    "    )\n",
    "    return search_results"
   ]
  },
  {
   "cell_type": "code",
   "execution_count": 8,
   "id": "4a6e6b13-4672-4d0d-8f6d-4cd70af5589f",
   "metadata": {},
   "outputs": [],
   "source": [
    "# Create the agent\n",
    "def create_simple_search_agent():\n",
    "    # Set up the model\n",
    "    model = ChatAnthropic(model_name=\"claude-sonnet-4-20250514\", max_tokens=64000)\n",
    "    \n",
    "    # Create the agent with the search tool\n",
    "    agent = create_react_agent(\n",
    "        model=model,\n",
    "        tools=[internet_search],\n",
    "        prompt=\"You are a helpful assistant that can search the internet. Use the internet_search tool to find information when needed.\"\n",
    "    )\n",
    "    \n",
    "    return agent"
   ]
  },
  {
   "cell_type": "code",
   "execution_count": 9,
   "id": "66a33b05-3f29-4ba1-919b-83d2faac4a64",
   "metadata": {},
   "outputs": [
    {
     "name": "stdout",
     "output_type": "stream",
     "text": [
      "Running search example...\n",
      "\n",
      "=== Search Result ===\n",
      "Based on the latest search results, here are some key recent developments in artificial intelligence:\n",
      "\n",
      "## Recent AI News Highlights:\n",
      "\n",
      "**1. Google's Progress Toward AGI (August 5, 2025)**\n",
      "- Google DeepMind has outlined their latest step toward creating Artificial General Intelligence (AGI)\n",
      "- They've developed a new model that allows AI systems to interact with convincing simulations of the real world\n",
      "- Google argues that \"world models\" are a crucial step toward achieving AGI - AI systems that can perform most tasks on par with humans\n",
      "\n",
      "**2. OpenAI Corporate Developments (August 7, 2025)**\n",
      "- OpenAI is reportedly about to make many employees millionaires due to the company's massive valuation growth\n",
      "- The company, which started as a non-profit, is now valued like a major corporation\n",
      "- OpenAI is offering ChatGPT Enterprise to federal agencies for just $1, showing their push into government contracts\n",
      "- The company has also released two new open-source AI models, returning to more transparency\n",
      "\n",
      "**3. AI's Impact on Employment (August 2, 2025)**\n",
      "- CEOs are increasingly public about using AI to reduce their workforces\n",
      "- According to AI advisor Elijah Clark, \"CEOs are extremely excited about the opportunities that AI brings\"\n",
      "\n",
      "**4. Other Notable Developments**\n",
      "- There have been concerns about AI rate limits affecting users of various platforms\n",
      "- Some controversies around AI use in official capacities, including a judge accused of using AI for court rulings\n",
      "\n",
      "The AI field continues to evolve rapidly, with major developments in both the technical capabilities (like Google's world models for AGI) and the business/social implications (like workforce changes and corporate valuations).\n"
     ]
    }
   ],
   "source": [
    "# Run the example\n",
    "if __name__ == \"__main__\":\n",
    "    # Make sure you have TAVILY_API_KEY set\n",
    "    if \"TAVILY_API_KEY\" not in os.environ:\n",
    "        print(\"Please set TAVILY_API_KEY environment variable\")\n",
    "        exit(1)\n",
    "    \n",
    "    # Create the agent\n",
    "    agent = create_simple_search_agent()\n",
    "    \n",
    "    # Run a search example\n",
    "    print(\"Running search example...\")\n",
    "    result = agent.invoke({\n",
    "        \"messages\": [{\n",
    "            \"role\": \"user\", \n",
    "            \"content\": \"What is the latest news about artificial intelligence?\"\n",
    "        }]\n",
    "    })\n",
    "    \n",
    "    # Print the result\n",
    "    print(\"\\n=== Search Result ===\")\n",
    "    print(result[\"messages\"][-1].content)\n"
   ]
  },
  {
   "cell_type": "code",
   "execution_count": 13,
   "id": "d6250583-adf4-4879-a4d1-3c98f3c69b53",
   "metadata": {},
   "outputs": [
    {
     "name": "stdout",
     "output_type": "stream",
     "text": [
      "🎯 LangSmith Projects URL: https://smith.langchain.com/projects\n"
     ]
    }
   ],
   "source": [
    "# Print the LangSmith projects URL for easy access to all traces\n",
    "print(f\"🎯 LangSmith Projects URL: https://smith.langchain.com/projects\")\n",
    "\n"
   ]
  },
  {
   "cell_type": "code",
   "execution_count": null,
   "id": "bed836b7-56dc-4eba-bab5-7fa355d2628f",
   "metadata": {},
   "outputs": [],
   "source": []
  }
 ],
 "metadata": {
  "kernelspec": {
   "display_name": "Python 3 (ipykernel)",
   "language": "python",
   "name": "python3"
  },
  "language_info": {
   "codemirror_mode": {
    "name": "ipython",
    "version": 3
   },
   "file_extension": ".py",
   "mimetype": "text/x-python",
   "name": "python",
   "nbconvert_exporter": "python",
   "pygments_lexer": "ipython3",
   "version": "3.13.5"
  }
 },
 "nbformat": 4,
 "nbformat_minor": 5
}
